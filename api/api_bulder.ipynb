{
 "cells": [
  {
   "cell_type": "code",
   "execution_count": 1,
   "metadata": {},
   "outputs": [],
   "source": [
    "import json\n",
    "import marshmallow as ma"
   ]
  },
  {
   "cell_type": "code",
   "execution_count": 2,
   "metadata": {},
   "outputs": [],
   "source": [
    "class Usuario:\n",
    "    id = 0\n",
    "    \n",
    "    def __init__(self, nome, email, senha, foto_url):\n",
    "        self.nome = nome\n",
    "        self.email = email\n",
    "        self.senha = senha\n",
    "        self.foto_url = foto_url\n",
    "        \n",
    "        self.id = Usuario.id\n",
    "        Usuario.id += 1\n",
    "\n",
    "        \n",
    "class UsuarioSchema(ma.Schema):\n",
    "    id = ma.fields.Int()\n",
    "    nome = ma.fields.Str()\n",
    "    email = ma.fields.Email()\n",
    "    senha = ma.fields.Str()\n",
    "    foto_url = ma.fields.Url()"
   ]
  },
  {
   "cell_type": "code",
   "execution_count": 3,
   "metadata": {},
   "outputs": [],
   "source": [
    "usuarios = [\n",
    "    Usuario('KatoMono', 'k4t0mono@samurai.io', 'birb', 'https://4.bp.blogspot.com/-TckS2ehpyDc/VQIthzSQS7I/AAAAAAAAA5w/Xq2pF5Uz3h8/s1600/ocelot%2Bpic%2B2.jpg'),\n",
    "    Usuario('Dudei', 'dudei@samurai.io', '123', 'https://media.licdn.com/dms/image/C4E03AQFApzGsMuTm0g/profile-displayphoto-shrink_200_200/0?e=1577923200&v=beta&t=0tpD39UUri1j71hapEVzkw1AcBxpA_BShfmdQ7l5XrI'),\n",
    "    Usuario('Thuza', 'thuza@samurai.io', 'vim', 'https://media.licdn.com/dms/image/C4D03AQFD2Dj4vkh4CA/profile-displayphoto-shrink_200_200/0?e=1577923200&v=beta&t=BmkwRs6xbqrx0gvWc4kFvOjfBnbehFeRh2VU-xIRBCk'),\n",
    "    Usuario('Ribolive', 'ribolive@samura.io', 'asd', 'https://media.licdn.com/dms/image/C4E03AQE8AfuIcYZCGA/profile-displayphoto-shrink_200_200/0?e=1577923200&v=beta&t=Nz-JReE75u6AbORXwyEqaWG5KUaoa8qVLW_RAZzLCUY')\n",
    "]"
   ]
  },
  {
   "cell_type": "code",
   "execution_count": 4,
   "metadata": {},
   "outputs": [],
   "source": [
    "class Publicador:\n",
    "    id = 0\n",
    "    \n",
    "    def __init__(self, nome, num_seguidores,):\n",
    "        self.nome = nome\n",
    "        self.num_seguidores = num_seguidores\n",
    "        \n",
    "        self.id = Publicador.id\n",
    "        Publicador.id += 1\n",
    "\n",
    "\n",
    "class PublicadorSchema(ma.Schema):\n",
    "    id = ma.fields.Int()\n",
    "    nome = ma.fields.Str()\n",
    "    num_seguidores = ma.fields.Int()"
   ]
  },
  {
   "cell_type": "code",
   "execution_count": 5,
   "metadata": {},
   "outputs": [],
   "source": [
    "publicadores = [\n",
    "    Publicador('DCC', 10),\n",
    "    Publicador('LOOP', 7),\n",
    "    Publicador('LabRI', 4),\n",
    "]"
   ]
  },
  {
   "cell_type": "code",
   "execution_count": 6,
   "metadata": {},
   "outputs": [],
   "source": [
    "class Boletim:\n",
    "    id = 0\n",
    "    \n",
    "    def __init__(self, titulo, imagemSrc, publicadorId, data, likes):\n",
    "        self.titulo = titulo\n",
    "        self.imagemSrc = imagemSrc\n",
    "        self.publicadorId = publicadorId\n",
    "        self.data = data\n",
    "        self.likes = likes\n",
    "        \n",
    "        self.id = Boletim.id\n",
    "        Boletim.id += 1 \n",
    "\n",
    "\n",
    "class BoletimSchema(ma.Schema):\n",
    "    id = ma.fields.Int()\n",
    "    titulo = ma.fields.Str()\n",
    "    imagemSrc = ma.fields.URL()\n",
    "    publicadorId = ma.fields.Int()\n",
    "    data = ma.fields.DateTime()\n",
    "    likes = ma.fields.Int()"
   ]
  },
  {
   "cell_type": "code",
   "execution_count": 7,
   "metadata": {},
   "outputs": [],
   "source": [
    "import datetime as dt\n",
    "\n",
    "boletins = [\n",
    "    Boletim('Lorem Amet Aline', 'lorem.jpg', publicadores[1].id, dt.datetime.now(), 3),\n",
    "    Boletim(\n",
    "        'Polícia Federal faz operação contra empresa grega acusada do vazamento de óleo no litoral brasileiro',\n",
    "        'lorem.jpg',\n",
    "        publicadores[1].id,\n",
    "        dt.datetime.now(),\n",
    "        1\n",
    "    ),\n",
    "]"
   ]
  },
  {
   "cell_type": "code",
   "execution_count": 8,
   "metadata": {},
   "outputs": [],
   "source": [
    "class Sessao:\n",
    "    id = 0\n",
    "\n",
    "    def __init__(self, boletimId, nome, texto, imagemSrc):\n",
    "        self.boletimId = boletimId\n",
    "        self.nome = nome\n",
    "        self.texto = texto\n",
    "        self.imagemSrc = imagemSrc\n",
    "        \n",
    "        self.id = Sessao.id\n",
    "        Sessao.id += 1\n",
    "\n",
    "\n",
    "class SessaoSchema(ma.Schema):\n",
    "    id = ma.fields.Int()\n",
    "    nome = ma.fields.Str()\n",
    "    texto = ma.fields.Str()\n",
    "    imagemSrc = ma.fields.URL()\n",
    "    boletimId = ma.fields.Int()"
   ]
  },
  {
   "cell_type": "code",
   "execution_count": 9,
   "metadata": {},
   "outputs": [],
   "source": [
    "sessoes = [\n",
    "    Sessao(0, '', 'aaa', ''),\n",
    "    Sessao(0, '', '123', ''),\n",
    "    Sessao(1, 'parte 1', 'A Polícia Federal deflagrou nesta sexta-feira (1º) uma operação com uma empresa grega apontada pelos investigadores como a responsável pela embarcação que derramou o óleo que atinge nove Estados brasileiros desde o fim de agosto.', 'lorem.jpg'),\n",
    "    Sessao(1, 'parte 2', 'O nome da empresa não foi divulgado. Foram cumpridos dois mandados de busca e apreensão na capital fluminense, em sedes de representantes e contatos da companhia grega no Brasil, na operação batizada de Mácula.', 'lorem.jpg'),\n",
    "    Sessao(1, 'parte 3', 'Segundo os investigadores, o derramamento de óleo ocorreu a cerca de 700 km na costa brasileira no fim de julho. Mais específica, um trabalho de geointeligência identificou uma mancha a 733km (395 milhas náuticas) a oeste do Estado da Paraíba.', 'lorem.jpg'),\n",
    "    Sessao(1, 'parte 4', 'De acordo com a Polícia Federal, \"a embarcação, de bandeira grega, atracou (no porto San José) na Venezuela em 15 de julho, permaneceu por três dias, e seguiu rumo a Singapura, pelo oceano Atlântico, vindo a aportar apenas na África do Sul. O derramamento investigado teria ocorrido nesse deslocamento\".', 'lorem.jpg'),\n",
    "]"
   ]
  },
  {
   "cell_type": "code",
   "execution_count": 10,
   "metadata": {},
   "outputs": [],
   "source": [
    "class Comentario():\n",
    "    id = 0\n",
    "    \n",
    "    def __init__(self, usuarioId, boletimId, comentario, data):\n",
    "        self.usuarioId = usuarioId\n",
    "        self.boletimId = boletimId\n",
    "        self.comentario = comentario\n",
    "        self.data = data\n",
    "        \n",
    "        self.id = Comentario.id\n",
    "        Comentario.id += 1\n",
    "\n",
    "\n",
    "class ComentarioSchema(ma.Schema):\n",
    "    id = ma.fields.Int()\n",
    "    usuarioId = ma.fields.Int()\n",
    "    boletimId = ma.fields.Int()\n",
    "    comentario = ma.fields.Str()\n",
    "    data = ma.fields.DateTime()"
   ]
  },
  {
   "cell_type": "code",
   "execution_count": 11,
   "metadata": {},
   "outputs": [],
   "source": [
    "comentarios = [\n",
    "    Comentario(usuarios[1].id, boletins[0].id, 'Muito legal!', dt.datetime.now()),\n",
    "    Comentario(usuarios[1].id, boletins[1].id, 'Muito legal!', dt.datetime.now())\n",
    "]"
   ]
  },
  {
   "cell_type": "code",
   "execution_count": 12,
   "metadata": {},
   "outputs": [],
   "source": [
    "class Like():\n",
    "    id = 0\n",
    "    \n",
    "    def __init__(self, usuarioId, boletimId):\n",
    "        self.usuarioId = usuarioId\n",
    "        self.boletimId = boletimId\n",
    "        \n",
    "        self.id = Like.id\n",
    "        Like.id += 1\n",
    "\n",
    "        \n",
    "class LikeSchema(ma.Schema):\n",
    "    id = ma.fields.Int()\n",
    "    usuarioId = ma.fields.Int()\n",
    "    boletimId = ma.fields.Int()"
   ]
  },
  {
   "cell_type": "code",
   "execution_count": 13,
   "metadata": {},
   "outputs": [],
   "source": [
    "likes = [\n",
    "    Like(0, 0), Like(1, 0), Like(2, 0), Like(3, 1)\n",
    "]"
   ]
  },
  {
   "cell_type": "code",
   "execution_count": 14,
   "metadata": {},
   "outputs": [],
   "source": [
    "class Seguidor():\n",
    "    id = 0\n",
    "    \n",
    "    def __init__(self, usuarioId, publicadorId):\n",
    "        self.usuarioId = usuarioId\n",
    "        self.publicadorId = publicadorId\n",
    "        \n",
    "        self.id = Seguidor.id\n",
    "        Seguidor.id += 1\n",
    "        \n",
    "    \n",
    "class SeguidorSchema(ma.Schema):\n",
    "    id = ma.fields.Int()\n",
    "    usuarioId = ma.fields.Int()\n",
    "    publicadorId = ma.fields.Int()"
   ]
  },
  {
   "cell_type": "code",
   "execution_count": 15,
   "metadata": {},
   "outputs": [],
   "source": [
    "seguidores = [\n",
    "    Seguidor(0, 0), Seguidor(0, 1), Seguidor(0, 2),\n",
    "    Seguidor(1, 0), Seguidor(1, 1),\n",
    "    Seguidor(2, 0), Seguidor(2, 2),\n",
    "    Seguidor(3, 0), Seguidor(3, 1), Seguidor(3, 2)\n",
    "]"
   ]
  },
  {
   "cell_type": "code",
   "execution_count": 16,
   "metadata": {},
   "outputs": [],
   "source": [
    "class DataBase:\n",
    "    def __init__(self, usuarios, publicador, boletims, comentarios, likes, seguidores, sessaos):\n",
    "        self.usuarios = usuarios\n",
    "        self.publicadors = publicador\n",
    "        self.boletims = boletims\n",
    "        self.comentarios = comentarios\n",
    "        self.likes = likes\n",
    "        self.seguidores = seguidores\n",
    "        self.sessaos = sessaos\n",
    "\n",
    "class DataBaseSchema(ma.Schema):\n",
    "    usuarios = ma.fields.List(ma.fields.Nested(UsuarioSchema))\n",
    "    publicadors = ma.fields.List(ma.fields.Nested(PublicadorSchema))\n",
    "    boletims = ma.fields.List(ma.fields.Nested(BoletimSchema))\n",
    "    comentarios = ma.fields.List(ma.fields.Nested(ComentarioSchema))\n",
    "    likes = ma.fields.List(ma.fields.Nested(LikeSchema))\n",
    "    seguidores = ma.fields.List(ma.fields.Nested(SeguidorSchema))\n",
    "    sessaos = ma.fields.List(ma.fields.Nested(SessaoSchema))"
   ]
  },
  {
   "cell_type": "code",
   "execution_count": 17,
   "metadata": {},
   "outputs": [],
   "source": [
    "db = DataBase(usuarios, publicadores, boletins, comentarios, likes, seguidores, sessoes)\n",
    "DBS = DataBaseSchema()\n",
    "DBS.dump(db)\n",
    "\n",
    "with open('db.json', 'w') as fl:\n",
    "    fl.write(DBS.dumps(db))"
   ]
  },
  {
   "cell_type": "code",
   "execution_count": null,
   "metadata": {},
   "outputs": [],
   "source": []
  }
 ],
 "metadata": {
  "kernelspec": {
   "display_name": "Python 3",
   "language": "python",
   "name": "python3"
  },
  "language_info": {
   "codemirror_mode": {
    "name": "ipython",
    "version": 3
   },
   "file_extension": ".py",
   "mimetype": "text/x-python",
   "name": "python",
   "nbconvert_exporter": "python",
   "pygments_lexer": "ipython3",
   "version": "3.7.4"
  }
 },
 "nbformat": 4,
 "nbformat_minor": 4
}
