{
 "cells": [
  {
   "cell_type": "code",
   "execution_count": 1,
   "metadata": {},
   "outputs": [],
   "source": [
    "import json\n",
    "import marshmallow as ma"
   ]
  },
  {
   "cell_type": "code",
   "execution_count": 2,
   "metadata": {},
   "outputs": [],
   "source": [
    "class User:\n",
    "    id = 0\n",
    "    \n",
    "    def __init__(self, nome, email):\n",
    "        self.nome = nome\n",
    "        self.email = email\n",
    "        \n",
    "        self.id = User.id\n",
    "        User.id += 1\n",
    "\n",
    "        \n",
    "class UserSchema(ma.Schema):\n",
    "    id = ma.fields.Int()\n",
    "    nome = ma.fields.Str()\n",
    "    email = ma.fields.Email()"
   ]
  },
  {
   "cell_type": "code",
   "execution_count": 3,
   "metadata": {},
   "outputs": [],
   "source": [
    "users = [\n",
    "    User('KatoMono', 'k4t0mono@samurai.io'),\n",
    "    User('Dudei', 'dudei@samurai.io'),\n",
    "    User('Thuza', 'thuza@samurai.io'),\n",
    "]"
   ]
  },
  {
   "cell_type": "code",
   "execution_count": 4,
   "metadata": {},
   "outputs": [],
   "source": [
    "class Publicador:\n",
    "    id = 0\n",
    "    \n",
    "    def __init__(self, nome, num_seguidores):\n",
    "        self.nome = nome\n",
    "        self.num_seguidores = num_seguidores\n",
    "        \n",
    "        self.id = Publicador.id\n",
    "        Publicador.id += 1\n",
    "\n",
    "\n",
    "class PublicadorSchema(ma.Schema):\n",
    "    id = ma.fields.Int()\n",
    "    nome = ma.fields.Str()\n",
    "    num_seguidores = ma.fields.Int()"
   ]
  },
  {
   "cell_type": "code",
   "execution_count": 5,
   "metadata": {},
   "outputs": [],
   "source": [
    "publicadores = [\n",
    "    Publicador('DCC', 10),\n",
    "    Publicador('LOOP', 7),\n",
    "    Publicador('LabRI', 4),\n",
    "]"
   ]
  },
  {
   "cell_type": "code",
   "execution_count": 13,
   "metadata": {},
   "outputs": [],
   "source": [
    "class Boletim:\n",
    "    id = 0\n",
    "    \n",
    "    def __init__(self, titulo, sessoes, imagem_src, publicadorId):\n",
    "        self.titulo = titulo\n",
    "        self.sessoes = sessoes\n",
    "        self.imagem_src = imagem_src\n",
    "        self.publicadorId = publicadorId\n",
    "\n",
    "\n",
    "class BoletimSchema(ma.Schema):\n",
    "    id = ma.fields.Int()\n",
    "    titulo = ma.fields.Str()\n",
    "    sessoes = ma.fields.List(ma.fields.Str())\n",
    "    imagem_src = ma.fields.URL()\n",
    "    publicadorId = ma.fields.Int()"
   ]
  },
  {
   "cell_type": "code",
   "execution_count": 14,
   "metadata": {},
   "outputs": [],
   "source": [
    "boletins = [\n",
    "    Boletim('Lorem Amet Aline', ['1', 'aaaa'], 'lorem.jpg', publicadores[1].id),\n",
    "]"
   ]
  },
  {
   "cell_type": "code",
   "execution_count": 34,
   "metadata": {},
   "outputs": [],
   "source": [
    "class DataBase:\n",
    "    def __init__(self, usuarios, publicador, boletim):\n",
    "        self.usuarios = usuarios\n",
    "        self.publicadors = publicador\n",
    "        self.boletim = boletim\n",
    "\n",
    "class DataBaseSchema(ma.Schema):\n",
    "    usuarios = ma.fields.List(ma.fields.Nested(UserSchema))\n",
    "    publicadors = ma.fields.List(ma.fields.Nested(PublicadorSchema))\n",
    "    boletim = ma.fields.List(ma.fields.Nested(BoletimSchema))"
   ]
  },
  {
   "cell_type": "code",
   "execution_count": 35,
   "metadata": {},
   "outputs": [
    {
     "data": {
      "text/plain": [
       "{'boletim': [{'imagem_src': 'lorem.jpg',\n",
       "   'id': 0,\n",
       "   'publicadorId': 1,\n",
       "   'sessoes': ['1', 'aaaa'],\n",
       "   'titulo': 'Lorem Amet Aline'}],\n",
       " 'usuarios': [{'email': 'k4t0mono@samurai.io', 'id': 0, 'nome': 'KatoMono'},\n",
       "  {'email': 'dudei@samurai.io', 'id': 1, 'nome': 'Dudei'},\n",
       "  {'email': 'thuza@samurai.io', 'id': 2, 'nome': 'Thuza'}],\n",
       " 'publicadors': [{'id': 0, 'num_seguidores': 10, 'nome': 'DCC'},\n",
       "  {'id': 1, 'num_seguidores': 7, 'nome': 'LOOP'},\n",
       "  {'id': 2, 'num_seguidores': 4, 'nome': 'LabRI'}]}"
      ]
     },
     "execution_count": 35,
     "metadata": {},
     "output_type": "execute_result"
    }
   ],
   "source": [
    "db = DataBase(users, publicadores, boletins)\n",
    "DBS = DataBaseSchema()\n",
    "DBS.dump(db)"
   ]
  },
  {
   "cell_type": "code",
   "execution_count": 36,
   "metadata": {},
   "outputs": [],
   "source": [
    "with open('db.json', 'w') as fl:\n",
    "    fl.write(DBS.dumps(db))"
   ]
  },
  {
   "cell_type": "code",
   "execution_count": null,
   "metadata": {},
   "outputs": [],
   "source": []
  }
 ],
 "metadata": {
  "kernelspec": {
   "display_name": "Python 3",
   "language": "python",
   "name": "python3"
  },
  "language_info": {
   "codemirror_mode": {
    "name": "ipython",
    "version": 3
   },
   "file_extension": ".py",
   "mimetype": "text/x-python",
   "name": "python",
   "nbconvert_exporter": "python",
   "pygments_lexer": "ipython3",
   "version": "3.7.4"
  }
 },
 "nbformat": 4,
 "nbformat_minor": 4
}
